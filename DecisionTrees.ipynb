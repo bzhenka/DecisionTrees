{
  "nbformat": 4,
  "nbformat_minor": 0,
  "metadata": {
    "colab": {
      "provenance": [],
      "authorship_tag": "ABX9TyPLusVnziOenycMoWMzDFoD",
      "include_colab_link": true
    },
    "kernelspec": {
      "name": "python3",
      "display_name": "Python 3"
    },
    "language_info": {
      "name": "python"
    }
  },
  "cells": [
    {
      "cell_type": "markdown",
      "metadata": {
        "id": "view-in-github",
        "colab_type": "text"
      },
      "source": [
        "<a href=\"https://colab.research.google.com/github/bzhenka/DecisionTrees/blob/main/DecisionTrees.ipynb\" target=\"_parent\"><img src=\"https://colab.research.google.com/assets/colab-badge.svg\" alt=\"Open In Colab\"/></a>"
      ]
    },
    {
      "cell_type": "markdown",
      "source": [
        "# Лабораторная работа №5"
      ],
      "metadata": {
        "id": "bY5-GfoO2Ol-"
      }
    },
    {
      "cell_type": "markdown",
      "source": [
        "Датасет с классификацией грибов"
      ],
      "metadata": {
        "id": "4yEx_1XF2Tug"
      }
    },
    {
      "cell_type": "markdown",
      "source": [
        "## Импорт данных"
      ],
      "metadata": {
        "id": "awOlKBsT4TWK"
      }
    },
    {
      "cell_type": "code",
      "execution_count": null,
      "metadata": {
        "colab": {
          "base_uri": "https://localhost:8080/"
        },
        "id": "m_iKjlbof1i8",
        "outputId": "2c2e15b0-aab4-4788-b019-05ce603b0c8a"
      },
      "outputs": [
        {
          "output_type": "stream",
          "name": "stdout",
          "text": [
            "Requirement already satisfied: ucimlrepo in /usr/local/lib/python3.10/dist-packages (0.0.7)\n",
            "Requirement already satisfied: pandas>=1.0.0 in /usr/local/lib/python3.10/dist-packages (from ucimlrepo) (2.2.2)\n",
            "Requirement already satisfied: certifi>=2020.12.5 in /usr/local/lib/python3.10/dist-packages (from ucimlrepo) (2024.8.30)\n",
            "Requirement already satisfied: numpy>=1.22.4 in /usr/local/lib/python3.10/dist-packages (from pandas>=1.0.0->ucimlrepo) (1.26.4)\n",
            "Requirement already satisfied: python-dateutil>=2.8.2 in /usr/local/lib/python3.10/dist-packages (from pandas>=1.0.0->ucimlrepo) (2.8.2)\n",
            "Requirement already satisfied: pytz>=2020.1 in /usr/local/lib/python3.10/dist-packages (from pandas>=1.0.0->ucimlrepo) (2024.2)\n",
            "Requirement already satisfied: tzdata>=2022.7 in /usr/local/lib/python3.10/dist-packages (from pandas>=1.0.0->ucimlrepo) (2024.2)\n",
            "Requirement already satisfied: six>=1.5 in /usr/local/lib/python3.10/dist-packages (from python-dateutil>=2.8.2->pandas>=1.0.0->ucimlrepo) (1.17.0)\n"
          ]
        }
      ],
      "source": [
        "pip install ucimlrepo"
      ]
    },
    {
      "cell_type": "code",
      "source": [
        "from ucimlrepo import fetch_ucirepo\n",
        "\n",
        "# fetch dataset\n",
        "mushroom = fetch_ucirepo(id=73)\n",
        "\n",
        "# data (as pandas dataframes)\n",
        "X = mushroom.data.features\n",
        "y = mushroom.data.targets\n",
        "\n",
        "# metadata\n",
        "print(mushroom.metadata)\n",
        "\n",
        "# variable information\n",
        "print(mushroom.variables)"
      ],
      "metadata": {
        "colab": {
          "base_uri": "https://localhost:8080/"
        },
        "id": "B22wJTPWgY04",
        "outputId": "274c350a-561d-4195-ea25-b029c975a885"
      },
      "execution_count": null,
      "outputs": [
        {
          "output_type": "stream",
          "name": "stdout",
          "text": [
            "{'uci_id': 73, 'name': 'Mushroom', 'repository_url': 'https://archive.ics.uci.edu/dataset/73/mushroom', 'data_url': 'https://archive.ics.uci.edu/static/public/73/data.csv', 'abstract': 'From Audobon Society Field Guide; mushrooms described in terms of physical characteristics; classification: poisonous or edible', 'area': 'Biology', 'tasks': ['Classification'], 'characteristics': ['Multivariate'], 'num_instances': 8124, 'num_features': 22, 'feature_types': ['Categorical'], 'demographics': [], 'target_col': ['poisonous'], 'index_col': None, 'has_missing_values': 'yes', 'missing_values_symbol': 'NaN', 'year_of_dataset_creation': 1981, 'last_updated': 'Thu Aug 10 2023', 'dataset_doi': '10.24432/C5959T', 'creators': [], 'intro_paper': None, 'additional_info': {'summary': \"This data set includes descriptions of hypothetical samples corresponding to 23 species of gilled mushrooms in the Agaricus and Lepiota Family (pp. 500-525).  Each species is identified as definitely edible, definitely poisonous, or of unknown edibility and not recommended.  This latter class was combined with the poisonous one.  The Guide clearly states that there is no simple rule for determining the edibility of a mushroom; no rule like ``leaflets three, let it be'' for Poisonous Oak and Ivy.\", 'purpose': None, 'funded_by': None, 'instances_represent': None, 'recommended_data_splits': None, 'sensitive_data': None, 'preprocessing_description': None, 'variable_info': '     1. cap-shape:                bell=b,conical=c,convex=x,flat=f, knobbed=k,sunken=s\\r\\n     2. cap-surface:              fibrous=f,grooves=g,scaly=y,smooth=s\\r\\n     3. cap-color:                brown=n,buff=b,cinnamon=c,gray=g,green=r, pink=p,purple=u,red=e,white=w,yellow=y\\r\\n     4. bruises?:                 bruises=t,no=f\\r\\n     5. odor:                     almond=a,anise=l,creosote=c,fishy=y,foul=f, musty=m,none=n,pungent=p,spicy=s\\r\\n     6. gill-attachment:          attached=a,descending=d,free=f,notched=n\\r\\n     7. gill-spacing:             close=c,crowded=w,distant=d\\r\\n     8. gill-size:                broad=b,narrow=n\\r\\n     9. gill-color:               black=k,brown=n,buff=b,chocolate=h,gray=g, green=r,orange=o,pink=p,purple=u,red=e, white=w,yellow=y\\r\\n    10. stalk-shape:              enlarging=e,tapering=t\\r\\n    11. stalk-root:               bulbous=b,club=c,cup=u,equal=e, rhizomorphs=z,rooted=r,missing=?\\r\\n    12. stalk-surface-above-ring: fibrous=f,scaly=y,silky=k,smooth=s\\r\\n    13. stalk-surface-below-ring: fibrous=f,scaly=y,silky=k,smooth=s\\r\\n    14. stalk-color-above-ring:   brown=n,buff=b,cinnamon=c,gray=g,orange=o, pink=p,red=e,white=w,yellow=y\\r\\n    15. stalk-color-below-ring:   brown=n,buff=b,cinnamon=c,gray=g,orange=o, pink=p,red=e,white=w,yellow=y\\r\\n    16. veil-type:                partial=p,universal=u\\r\\n    17. veil-color:               brown=n,orange=o,white=w,yellow=y\\r\\n    18. ring-number:              none=n,one=o,two=t\\r\\n    19. ring-type:                cobwebby=c,evanescent=e,flaring=f,large=l, none=n,pendant=p,sheathing=s,zone=z\\r\\n    20. spore-print-color:        black=k,brown=n,buff=b,chocolate=h,green=r, orange=o,purple=u,white=w,yellow=y\\r\\n    21. population:               abundant=a,clustered=c,numerous=n, scattered=s,several=v,solitary=y\\r\\n    22. habitat:                  grasses=g,leaves=l,meadows=m,paths=p, urban=u,waste=w,woods=d', 'citation': None}}\n",
            "                        name     role         type demographic  \\\n",
            "0                  poisonous   Target  Categorical        None   \n",
            "1                  cap-shape  Feature  Categorical        None   \n",
            "2                cap-surface  Feature  Categorical        None   \n",
            "3                  cap-color  Feature       Binary        None   \n",
            "4                    bruises  Feature  Categorical        None   \n",
            "5                       odor  Feature  Categorical        None   \n",
            "6            gill-attachment  Feature  Categorical        None   \n",
            "7               gill-spacing  Feature  Categorical        None   \n",
            "8                  gill-size  Feature  Categorical        None   \n",
            "9                 gill-color  Feature  Categorical        None   \n",
            "10               stalk-shape  Feature  Categorical        None   \n",
            "11                stalk-root  Feature  Categorical        None   \n",
            "12  stalk-surface-above-ring  Feature  Categorical        None   \n",
            "13  stalk-surface-below-ring  Feature  Categorical        None   \n",
            "14    stalk-color-above-ring  Feature  Categorical        None   \n",
            "15    stalk-color-below-ring  Feature  Categorical        None   \n",
            "16                 veil-type  Feature       Binary        None   \n",
            "17                veil-color  Feature  Categorical        None   \n",
            "18               ring-number  Feature  Categorical        None   \n",
            "19                 ring-type  Feature  Categorical        None   \n",
            "20         spore-print-color  Feature  Categorical        None   \n",
            "21                population  Feature  Categorical        None   \n",
            "22                   habitat  Feature  Categorical        None   \n",
            "\n",
            "                                          description units missing_values  \n",
            "0                                                None  None             no  \n",
            "1   bell=b,conical=c,convex=x,flat=f, knobbed=k,su...  None             no  \n",
            "2                fibrous=f,grooves=g,scaly=y,smooth=s  None             no  \n",
            "3   brown=n,buff=b,cinnamon=c,gray=g,green=r, pink...  None             no  \n",
            "4                                      bruises=t,no=f  None             no  \n",
            "5   almond=a,anise=l,creosote=c,fishy=y,foul=f, mu...  None             no  \n",
            "6            attached=a,descending=d,free=f,notched=n  None             no  \n",
            "7                         close=c,crowded=w,distant=d  None             no  \n",
            "8                                    broad=b,narrow=n  None             no  \n",
            "9   black=k,brown=n,buff=b,chocolate=h,gray=g, gre...  None             no  \n",
            "10                             enlarging=e,tapering=t  None             no  \n",
            "11  bulbous=b,club=c,cup=u,equal=e, rhizomorphs=z,...  None            yes  \n",
            "12                 fibrous=f,scaly=y,silky=k,smooth=s  None             no  \n",
            "13                 fibrous=f,scaly=y,silky=k,smooth=s  None             no  \n",
            "14  brown=n,buff=b,cinnamon=c,gray=g,orange=o, pin...  None             no  \n",
            "15  brown=n,buff=b,cinnamon=c,gray=g,orange=o, pin...  None             no  \n",
            "16                              partial=p,universal=u  None             no  \n",
            "17                  brown=n,orange=o,white=w,yellow=y  None             no  \n",
            "18                                 none=n,one=o,two=t  None             no  \n",
            "19  cobwebby=c,evanescent=e,flaring=f,large=l, non...  None             no  \n",
            "20  black=k,brown=n,buff=b,chocolate=h,green=r, or...  None             no  \n",
            "21  abundant=a,clustered=c,numerous=n, scattered=s...  None             no  \n",
            "22  grasses=g,leaves=l,meadows=m,paths=p, urban=u,...  None             no  \n"
          ]
        }
      ]
    },
    {
      "cell_type": "code",
      "source": [
        "import numpy as np\n",
        "import pandas as pd\n",
        "import matplotlib.pyplot as plt\n",
        "import math\n",
        "import random"
      ],
      "metadata": {
        "id": "ICthyCST6OBJ"
      },
      "execution_count": null,
      "outputs": []
    },
    {
      "cell_type": "code",
      "source": [
        "print(X.shape)\n",
        "print(y.shape)"
      ],
      "metadata": {
        "colab": {
          "base_uri": "https://localhost:8080/"
        },
        "id": "l2igtUUg4nDB",
        "outputId": "331d008e-b1fc-417e-d678-c2d83a0b866a"
      },
      "execution_count": null,
      "outputs": [
        {
          "output_type": "stream",
          "name": "stdout",
          "text": [
            "(8124, 22)\n",
            "(8124, 1)\n"
          ]
        }
      ]
    },
    {
      "cell_type": "markdown",
      "source": [
        "# Предворительная обработка данных"
      ],
      "metadata": {
        "id": "TlyxUaPw4wcV"
      }
    },
    {
      "cell_type": "markdown",
      "source": [
        "Обработка отсутствующих значений - заменяем nan"
      ],
      "metadata": {
        "id": "LzbVfKnt42or"
      }
    },
    {
      "cell_type": "code",
      "source": [
        "X.isnull().sum()"
      ],
      "metadata": {
        "colab": {
          "base_uri": "https://localhost:8080/",
          "height": 774
        },
        "id": "9ecOBFkZ44e_",
        "outputId": "9d3efeb7-a02c-4aaa-c8e0-fc5cb11fae9f"
      },
      "execution_count": null,
      "outputs": [
        {
          "output_type": "execute_result",
          "data": {
            "text/plain": [
              "cap-shape                      0\n",
              "cap-surface                    0\n",
              "cap-color                      0\n",
              "bruises                        0\n",
              "odor                           0\n",
              "gill-attachment                0\n",
              "gill-spacing                   0\n",
              "gill-size                      0\n",
              "gill-color                     0\n",
              "stalk-shape                    0\n",
              "stalk-root                  2480\n",
              "stalk-surface-above-ring       0\n",
              "stalk-surface-below-ring       0\n",
              "stalk-color-above-ring         0\n",
              "stalk-color-below-ring         0\n",
              "veil-type                      0\n",
              "veil-color                     0\n",
              "ring-number                    0\n",
              "ring-type                      0\n",
              "spore-print-color              0\n",
              "population                     0\n",
              "habitat                        0\n",
              "dtype: int64"
            ],
            "text/html": [
              "<div>\n",
              "<style scoped>\n",
              "    .dataframe tbody tr th:only-of-type {\n",
              "        vertical-align: middle;\n",
              "    }\n",
              "\n",
              "    .dataframe tbody tr th {\n",
              "        vertical-align: top;\n",
              "    }\n",
              "\n",
              "    .dataframe thead th {\n",
              "        text-align: right;\n",
              "    }\n",
              "</style>\n",
              "<table border=\"1\" class=\"dataframe\">\n",
              "  <thead>\n",
              "    <tr style=\"text-align: right;\">\n",
              "      <th></th>\n",
              "      <th>0</th>\n",
              "    </tr>\n",
              "  </thead>\n",
              "  <tbody>\n",
              "    <tr>\n",
              "      <th>cap-shape</th>\n",
              "      <td>0</td>\n",
              "    </tr>\n",
              "    <tr>\n",
              "      <th>cap-surface</th>\n",
              "      <td>0</td>\n",
              "    </tr>\n",
              "    <tr>\n",
              "      <th>cap-color</th>\n",
              "      <td>0</td>\n",
              "    </tr>\n",
              "    <tr>\n",
              "      <th>bruises</th>\n",
              "      <td>0</td>\n",
              "    </tr>\n",
              "    <tr>\n",
              "      <th>odor</th>\n",
              "      <td>0</td>\n",
              "    </tr>\n",
              "    <tr>\n",
              "      <th>gill-attachment</th>\n",
              "      <td>0</td>\n",
              "    </tr>\n",
              "    <tr>\n",
              "      <th>gill-spacing</th>\n",
              "      <td>0</td>\n",
              "    </tr>\n",
              "    <tr>\n",
              "      <th>gill-size</th>\n",
              "      <td>0</td>\n",
              "    </tr>\n",
              "    <tr>\n",
              "      <th>gill-color</th>\n",
              "      <td>0</td>\n",
              "    </tr>\n",
              "    <tr>\n",
              "      <th>stalk-shape</th>\n",
              "      <td>0</td>\n",
              "    </tr>\n",
              "    <tr>\n",
              "      <th>stalk-root</th>\n",
              "      <td>2480</td>\n",
              "    </tr>\n",
              "    <tr>\n",
              "      <th>stalk-surface-above-ring</th>\n",
              "      <td>0</td>\n",
              "    </tr>\n",
              "    <tr>\n",
              "      <th>stalk-surface-below-ring</th>\n",
              "      <td>0</td>\n",
              "    </tr>\n",
              "    <tr>\n",
              "      <th>stalk-color-above-ring</th>\n",
              "      <td>0</td>\n",
              "    </tr>\n",
              "    <tr>\n",
              "      <th>stalk-color-below-ring</th>\n",
              "      <td>0</td>\n",
              "    </tr>\n",
              "    <tr>\n",
              "      <th>veil-type</th>\n",
              "      <td>0</td>\n",
              "    </tr>\n",
              "    <tr>\n",
              "      <th>veil-color</th>\n",
              "      <td>0</td>\n",
              "    </tr>\n",
              "    <tr>\n",
              "      <th>ring-number</th>\n",
              "      <td>0</td>\n",
              "    </tr>\n",
              "    <tr>\n",
              "      <th>ring-type</th>\n",
              "      <td>0</td>\n",
              "    </tr>\n",
              "    <tr>\n",
              "      <th>spore-print-color</th>\n",
              "      <td>0</td>\n",
              "    </tr>\n",
              "    <tr>\n",
              "      <th>population</th>\n",
              "      <td>0</td>\n",
              "    </tr>\n",
              "    <tr>\n",
              "      <th>habitat</th>\n",
              "      <td>0</td>\n",
              "    </tr>\n",
              "  </tbody>\n",
              "</table>\n",
              "</div><br><label><b>dtype:</b> int64</label>"
            ]
          },
          "metadata": {},
          "execution_count": 32
        }
      ]
    },
    {
      "cell_type": "code",
      "source": [
        "X['stalk-root'].unique()"
      ],
      "metadata": {
        "colab": {
          "base_uri": "https://localhost:8080/"
        },
        "id": "coVFyE1t5uch",
        "outputId": "2d0ffce1-c568-4e19-9e06-5e986a2283c6"
      },
      "execution_count": null,
      "outputs": [
        {
          "output_type": "execute_result",
          "data": {
            "text/plain": [
              "array(['e', 'c', 'b', 'r', nan], dtype=object)"
            ]
          },
          "metadata": {},
          "execution_count": 33
        }
      ]
    },
    {
      "cell_type": "markdown",
      "source": [
        "Использование значения 'unknown' подразумевает, что отсутствующая информация рассматривается как отдельная категория."
      ],
      "metadata": {
        "id": "Wg4fuby259p7"
      }
    },
    {
      "cell_type": "code",
      "source": [
        "X.loc[:, 'stalk-root'] = X['stalk-root'].fillna('unknown')\n",
        "X.isnull().sum()"
      ],
      "metadata": {
        "colab": {
          "base_uri": "https://localhost:8080/",
          "height": 774
        },
        "id": "5hfVt7Cz5CXt",
        "outputId": "b778bb90-9987-48ad-c7ee-d7f3a480b7a4"
      },
      "execution_count": null,
      "outputs": [
        {
          "output_type": "execute_result",
          "data": {
            "text/plain": [
              "cap-shape                   0\n",
              "cap-surface                 0\n",
              "cap-color                   0\n",
              "bruises                     0\n",
              "odor                        0\n",
              "gill-attachment             0\n",
              "gill-spacing                0\n",
              "gill-size                   0\n",
              "gill-color                  0\n",
              "stalk-shape                 0\n",
              "stalk-root                  0\n",
              "stalk-surface-above-ring    0\n",
              "stalk-surface-below-ring    0\n",
              "stalk-color-above-ring      0\n",
              "stalk-color-below-ring      0\n",
              "veil-type                   0\n",
              "veil-color                  0\n",
              "ring-number                 0\n",
              "ring-type                   0\n",
              "spore-print-color           0\n",
              "population                  0\n",
              "habitat                     0\n",
              "dtype: int64"
            ],
            "text/html": [
              "<div>\n",
              "<style scoped>\n",
              "    .dataframe tbody tr th:only-of-type {\n",
              "        vertical-align: middle;\n",
              "    }\n",
              "\n",
              "    .dataframe tbody tr th {\n",
              "        vertical-align: top;\n",
              "    }\n",
              "\n",
              "    .dataframe thead th {\n",
              "        text-align: right;\n",
              "    }\n",
              "</style>\n",
              "<table border=\"1\" class=\"dataframe\">\n",
              "  <thead>\n",
              "    <tr style=\"text-align: right;\">\n",
              "      <th></th>\n",
              "      <th>0</th>\n",
              "    </tr>\n",
              "  </thead>\n",
              "  <tbody>\n",
              "    <tr>\n",
              "      <th>cap-shape</th>\n",
              "      <td>0</td>\n",
              "    </tr>\n",
              "    <tr>\n",
              "      <th>cap-surface</th>\n",
              "      <td>0</td>\n",
              "    </tr>\n",
              "    <tr>\n",
              "      <th>cap-color</th>\n",
              "      <td>0</td>\n",
              "    </tr>\n",
              "    <tr>\n",
              "      <th>bruises</th>\n",
              "      <td>0</td>\n",
              "    </tr>\n",
              "    <tr>\n",
              "      <th>odor</th>\n",
              "      <td>0</td>\n",
              "    </tr>\n",
              "    <tr>\n",
              "      <th>gill-attachment</th>\n",
              "      <td>0</td>\n",
              "    </tr>\n",
              "    <tr>\n",
              "      <th>gill-spacing</th>\n",
              "      <td>0</td>\n",
              "    </tr>\n",
              "    <tr>\n",
              "      <th>gill-size</th>\n",
              "      <td>0</td>\n",
              "    </tr>\n",
              "    <tr>\n",
              "      <th>gill-color</th>\n",
              "      <td>0</td>\n",
              "    </tr>\n",
              "    <tr>\n",
              "      <th>stalk-shape</th>\n",
              "      <td>0</td>\n",
              "    </tr>\n",
              "    <tr>\n",
              "      <th>stalk-root</th>\n",
              "      <td>0</td>\n",
              "    </tr>\n",
              "    <tr>\n",
              "      <th>stalk-surface-above-ring</th>\n",
              "      <td>0</td>\n",
              "    </tr>\n",
              "    <tr>\n",
              "      <th>stalk-surface-below-ring</th>\n",
              "      <td>0</td>\n",
              "    </tr>\n",
              "    <tr>\n",
              "      <th>stalk-color-above-ring</th>\n",
              "      <td>0</td>\n",
              "    </tr>\n",
              "    <tr>\n",
              "      <th>stalk-color-below-ring</th>\n",
              "      <td>0</td>\n",
              "    </tr>\n",
              "    <tr>\n",
              "      <th>veil-type</th>\n",
              "      <td>0</td>\n",
              "    </tr>\n",
              "    <tr>\n",
              "      <th>veil-color</th>\n",
              "      <td>0</td>\n",
              "    </tr>\n",
              "    <tr>\n",
              "      <th>ring-number</th>\n",
              "      <td>0</td>\n",
              "    </tr>\n",
              "    <tr>\n",
              "      <th>ring-type</th>\n",
              "      <td>0</td>\n",
              "    </tr>\n",
              "    <tr>\n",
              "      <th>spore-print-color</th>\n",
              "      <td>0</td>\n",
              "    </tr>\n",
              "    <tr>\n",
              "      <th>population</th>\n",
              "      <td>0</td>\n",
              "    </tr>\n",
              "    <tr>\n",
              "      <th>habitat</th>\n",
              "      <td>0</td>\n",
              "    </tr>\n",
              "  </tbody>\n",
              "</table>\n",
              "</div><br><label><b>dtype:</b> int64</label>"
            ]
          },
          "metadata": {},
          "execution_count": 34
        }
      ]
    },
    {
      "cell_type": "markdown",
      "source": [
        "Статистика"
      ],
      "metadata": {
        "id": "Kp4Z2El56LRO"
      }
    },
    {
      "cell_type": "markdown",
      "source": [
        "Устанавливаем максимальное количество отображаемых столбцов равным количеству столбцов в X."
      ],
      "metadata": {
        "id": "Ws3fAY2f6SYO"
      }
    },
    {
      "cell_type": "code",
      "source": [
        "pd.options.display.max_columns = X.shape[1]\n",
        "X.describe()"
      ],
      "metadata": {
        "colab": {
          "base_uri": "https://localhost:8080/",
          "height": 247
        },
        "id": "mxb84TPz7E_h",
        "outputId": "be02390d-16b3-4a3d-caf1-2aeca9e05142"
      },
      "execution_count": null,
      "outputs": [
        {
          "output_type": "execute_result",
          "data": {
            "text/plain": [
              "       cap-shape cap-surface cap-color bruises  odor gill-attachment  \\\n",
              "count       8124        8124      8124    8124  8124            8124   \n",
              "unique         6           4        10       2     9               2   \n",
              "top            x           y         n       f     n               f   \n",
              "freq        3656        3244      2284    4748  3528            7914   \n",
              "\n",
              "       gill-spacing gill-size gill-color stalk-shape stalk-root  \\\n",
              "count          8124      8124       8124        8124       8124   \n",
              "unique            2         2         12           2          5   \n",
              "top               c         b          b           t          b   \n",
              "freq           6812      5612       1728        4608       3776   \n",
              "\n",
              "       stalk-surface-above-ring stalk-surface-below-ring  \\\n",
              "count                      8124                     8124   \n",
              "unique                        4                        4   \n",
              "top                           s                        s   \n",
              "freq                       5176                     4936   \n",
              "\n",
              "       stalk-color-above-ring stalk-color-below-ring veil-type veil-color  \\\n",
              "count                    8124                   8124      8124       8124   \n",
              "unique                      9                      9         1          4   \n",
              "top                         w                      w         p          w   \n",
              "freq                     4464                   4384      8124       7924   \n",
              "\n",
              "       ring-number ring-type spore-print-color population habitat  \n",
              "count         8124      8124              8124       8124    8124  \n",
              "unique           3         5                 9          6       7  \n",
              "top              o         p                 w          v       d  \n",
              "freq          7488      3968              2388       4040    3148  "
            ],
            "text/html": [
              "\n",
              "  <div id=\"df-87da6491-c2e7-4d65-a548-550be721fdfe\" class=\"colab-df-container\">\n",
              "    <div>\n",
              "<style scoped>\n",
              "    .dataframe tbody tr th:only-of-type {\n",
              "        vertical-align: middle;\n",
              "    }\n",
              "\n",
              "    .dataframe tbody tr th {\n",
              "        vertical-align: top;\n",
              "    }\n",
              "\n",
              "    .dataframe thead th {\n",
              "        text-align: right;\n",
              "    }\n",
              "</style>\n",
              "<table border=\"1\" class=\"dataframe\">\n",
              "  <thead>\n",
              "    <tr style=\"text-align: right;\">\n",
              "      <th></th>\n",
              "      <th>cap-shape</th>\n",
              "      <th>cap-surface</th>\n",
              "      <th>cap-color</th>\n",
              "      <th>bruises</th>\n",
              "      <th>odor</th>\n",
              "      <th>gill-attachment</th>\n",
              "      <th>gill-spacing</th>\n",
              "      <th>gill-size</th>\n",
              "      <th>gill-color</th>\n",
              "      <th>stalk-shape</th>\n",
              "      <th>stalk-root</th>\n",
              "      <th>stalk-surface-above-ring</th>\n",
              "      <th>stalk-surface-below-ring</th>\n",
              "      <th>stalk-color-above-ring</th>\n",
              "      <th>stalk-color-below-ring</th>\n",
              "      <th>veil-type</th>\n",
              "      <th>veil-color</th>\n",
              "      <th>ring-number</th>\n",
              "      <th>ring-type</th>\n",
              "      <th>spore-print-color</th>\n",
              "      <th>population</th>\n",
              "      <th>habitat</th>\n",
              "    </tr>\n",
              "  </thead>\n",
              "  <tbody>\n",
              "    <tr>\n",
              "      <th>count</th>\n",
              "      <td>8124</td>\n",
              "      <td>8124</td>\n",
              "      <td>8124</td>\n",
              "      <td>8124</td>\n",
              "      <td>8124</td>\n",
              "      <td>8124</td>\n",
              "      <td>8124</td>\n",
              "      <td>8124</td>\n",
              "      <td>8124</td>\n",
              "      <td>8124</td>\n",
              "      <td>8124</td>\n",
              "      <td>8124</td>\n",
              "      <td>8124</td>\n",
              "      <td>8124</td>\n",
              "      <td>8124</td>\n",
              "      <td>8124</td>\n",
              "      <td>8124</td>\n",
              "      <td>8124</td>\n",
              "      <td>8124</td>\n",
              "      <td>8124</td>\n",
              "      <td>8124</td>\n",
              "      <td>8124</td>\n",
              "    </tr>\n",
              "    <tr>\n",
              "      <th>unique</th>\n",
              "      <td>6</td>\n",
              "      <td>4</td>\n",
              "      <td>10</td>\n",
              "      <td>2</td>\n",
              "      <td>9</td>\n",
              "      <td>2</td>\n",
              "      <td>2</td>\n",
              "      <td>2</td>\n",
              "      <td>12</td>\n",
              "      <td>2</td>\n",
              "      <td>5</td>\n",
              "      <td>4</td>\n",
              "      <td>4</td>\n",
              "      <td>9</td>\n",
              "      <td>9</td>\n",
              "      <td>1</td>\n",
              "      <td>4</td>\n",
              "      <td>3</td>\n",
              "      <td>5</td>\n",
              "      <td>9</td>\n",
              "      <td>6</td>\n",
              "      <td>7</td>\n",
              "    </tr>\n",
              "    <tr>\n",
              "      <th>top</th>\n",
              "      <td>x</td>\n",
              "      <td>y</td>\n",
              "      <td>n</td>\n",
              "      <td>f</td>\n",
              "      <td>n</td>\n",
              "      <td>f</td>\n",
              "      <td>c</td>\n",
              "      <td>b</td>\n",
              "      <td>b</td>\n",
              "      <td>t</td>\n",
              "      <td>b</td>\n",
              "      <td>s</td>\n",
              "      <td>s</td>\n",
              "      <td>w</td>\n",
              "      <td>w</td>\n",
              "      <td>p</td>\n",
              "      <td>w</td>\n",
              "      <td>o</td>\n",
              "      <td>p</td>\n",
              "      <td>w</td>\n",
              "      <td>v</td>\n",
              "      <td>d</td>\n",
              "    </tr>\n",
              "    <tr>\n",
              "      <th>freq</th>\n",
              "      <td>3656</td>\n",
              "      <td>3244</td>\n",
              "      <td>2284</td>\n",
              "      <td>4748</td>\n",
              "      <td>3528</td>\n",
              "      <td>7914</td>\n",
              "      <td>6812</td>\n",
              "      <td>5612</td>\n",
              "      <td>1728</td>\n",
              "      <td>4608</td>\n",
              "      <td>3776</td>\n",
              "      <td>5176</td>\n",
              "      <td>4936</td>\n",
              "      <td>4464</td>\n",
              "      <td>4384</td>\n",
              "      <td>8124</td>\n",
              "      <td>7924</td>\n",
              "      <td>7488</td>\n",
              "      <td>3968</td>\n",
              "      <td>2388</td>\n",
              "      <td>4040</td>\n",
              "      <td>3148</td>\n",
              "    </tr>\n",
              "  </tbody>\n",
              "</table>\n",
              "</div>\n",
              "    <div class=\"colab-df-buttons\">\n",
              "\n",
              "  <div class=\"colab-df-container\">\n",
              "    <button class=\"colab-df-convert\" onclick=\"convertToInteractive('df-87da6491-c2e7-4d65-a548-550be721fdfe')\"\n",
              "            title=\"Convert this dataframe to an interactive table.\"\n",
              "            style=\"display:none;\">\n",
              "\n",
              "  <svg xmlns=\"http://www.w3.org/2000/svg\" height=\"24px\" viewBox=\"0 -960 960 960\">\n",
              "    <path d=\"M120-120v-720h720v720H120Zm60-500h600v-160H180v160Zm220 220h160v-160H400v160Zm0 220h160v-160H400v160ZM180-400h160v-160H180v160Zm440 0h160v-160H620v160ZM180-180h160v-160H180v160Zm440 0h160v-160H620v160Z\"/>\n",
              "  </svg>\n",
              "    </button>\n",
              "\n",
              "  <style>\n",
              "    .colab-df-container {\n",
              "      display:flex;\n",
              "      gap: 12px;\n",
              "    }\n",
              "\n",
              "    .colab-df-convert {\n",
              "      background-color: #E8F0FE;\n",
              "      border: none;\n",
              "      border-radius: 50%;\n",
              "      cursor: pointer;\n",
              "      display: none;\n",
              "      fill: #1967D2;\n",
              "      height: 32px;\n",
              "      padding: 0 0 0 0;\n",
              "      width: 32px;\n",
              "    }\n",
              "\n",
              "    .colab-df-convert:hover {\n",
              "      background-color: #E2EBFA;\n",
              "      box-shadow: 0px 1px 2px rgba(60, 64, 67, 0.3), 0px 1px 3px 1px rgba(60, 64, 67, 0.15);\n",
              "      fill: #174EA6;\n",
              "    }\n",
              "\n",
              "    .colab-df-buttons div {\n",
              "      margin-bottom: 4px;\n",
              "    }\n",
              "\n",
              "    [theme=dark] .colab-df-convert {\n",
              "      background-color: #3B4455;\n",
              "      fill: #D2E3FC;\n",
              "    }\n",
              "\n",
              "    [theme=dark] .colab-df-convert:hover {\n",
              "      background-color: #434B5C;\n",
              "      box-shadow: 0px 1px 3px 1px rgba(0, 0, 0, 0.15);\n",
              "      filter: drop-shadow(0px 1px 2px rgba(0, 0, 0, 0.3));\n",
              "      fill: #FFFFFF;\n",
              "    }\n",
              "  </style>\n",
              "\n",
              "    <script>\n",
              "      const buttonEl =\n",
              "        document.querySelector('#df-87da6491-c2e7-4d65-a548-550be721fdfe button.colab-df-convert');\n",
              "      buttonEl.style.display =\n",
              "        google.colab.kernel.accessAllowed ? 'block' : 'none';\n",
              "\n",
              "      async function convertToInteractive(key) {\n",
              "        const element = document.querySelector('#df-87da6491-c2e7-4d65-a548-550be721fdfe');\n",
              "        const dataTable =\n",
              "          await google.colab.kernel.invokeFunction('convertToInteractive',\n",
              "                                                    [key], {});\n",
              "        if (!dataTable) return;\n",
              "\n",
              "        const docLinkHtml = 'Like what you see? Visit the ' +\n",
              "          '<a target=\"_blank\" href=https://colab.research.google.com/notebooks/data_table.ipynb>data table notebook</a>'\n",
              "          + ' to learn more about interactive tables.';\n",
              "        element.innerHTML = '';\n",
              "        dataTable['output_type'] = 'display_data';\n",
              "        await google.colab.output.renderOutput(dataTable, element);\n",
              "        const docLink = document.createElement('div');\n",
              "        docLink.innerHTML = docLinkHtml;\n",
              "        element.appendChild(docLink);\n",
              "      }\n",
              "    </script>\n",
              "  </div>\n",
              "\n",
              "\n",
              "<div id=\"df-52f9ff28-dd0e-4738-8b9a-465b62de5364\">\n",
              "  <button class=\"colab-df-quickchart\" onclick=\"quickchart('df-52f9ff28-dd0e-4738-8b9a-465b62de5364')\"\n",
              "            title=\"Suggest charts\"\n",
              "            style=\"display:none;\">\n",
              "\n",
              "<svg xmlns=\"http://www.w3.org/2000/svg\" height=\"24px\"viewBox=\"0 0 24 24\"\n",
              "     width=\"24px\">\n",
              "    <g>\n",
              "        <path d=\"M19 3H5c-1.1 0-2 .9-2 2v14c0 1.1.9 2 2 2h14c1.1 0 2-.9 2-2V5c0-1.1-.9-2-2-2zM9 17H7v-7h2v7zm4 0h-2V7h2v10zm4 0h-2v-4h2v4z\"/>\n",
              "    </g>\n",
              "</svg>\n",
              "  </button>\n",
              "\n",
              "<style>\n",
              "  .colab-df-quickchart {\n",
              "      --bg-color: #E8F0FE;\n",
              "      --fill-color: #1967D2;\n",
              "      --hover-bg-color: #E2EBFA;\n",
              "      --hover-fill-color: #174EA6;\n",
              "      --disabled-fill-color: #AAA;\n",
              "      --disabled-bg-color: #DDD;\n",
              "  }\n",
              "\n",
              "  [theme=dark] .colab-df-quickchart {\n",
              "      --bg-color: #3B4455;\n",
              "      --fill-color: #D2E3FC;\n",
              "      --hover-bg-color: #434B5C;\n",
              "      --hover-fill-color: #FFFFFF;\n",
              "      --disabled-bg-color: #3B4455;\n",
              "      --disabled-fill-color: #666;\n",
              "  }\n",
              "\n",
              "  .colab-df-quickchart {\n",
              "    background-color: var(--bg-color);\n",
              "    border: none;\n",
              "    border-radius: 50%;\n",
              "    cursor: pointer;\n",
              "    display: none;\n",
              "    fill: var(--fill-color);\n",
              "    height: 32px;\n",
              "    padding: 0;\n",
              "    width: 32px;\n",
              "  }\n",
              "\n",
              "  .colab-df-quickchart:hover {\n",
              "    background-color: var(--hover-bg-color);\n",
              "    box-shadow: 0 1px 2px rgba(60, 64, 67, 0.3), 0 1px 3px 1px rgba(60, 64, 67, 0.15);\n",
              "    fill: var(--button-hover-fill-color);\n",
              "  }\n",
              "\n",
              "  .colab-df-quickchart-complete:disabled,\n",
              "  .colab-df-quickchart-complete:disabled:hover {\n",
              "    background-color: var(--disabled-bg-color);\n",
              "    fill: var(--disabled-fill-color);\n",
              "    box-shadow: none;\n",
              "  }\n",
              "\n",
              "  .colab-df-spinner {\n",
              "    border: 2px solid var(--fill-color);\n",
              "    border-color: transparent;\n",
              "    border-bottom-color: var(--fill-color);\n",
              "    animation:\n",
              "      spin 1s steps(1) infinite;\n",
              "  }\n",
              "\n",
              "  @keyframes spin {\n",
              "    0% {\n",
              "      border-color: transparent;\n",
              "      border-bottom-color: var(--fill-color);\n",
              "      border-left-color: var(--fill-color);\n",
              "    }\n",
              "    20% {\n",
              "      border-color: transparent;\n",
              "      border-left-color: var(--fill-color);\n",
              "      border-top-color: var(--fill-color);\n",
              "    }\n",
              "    30% {\n",
              "      border-color: transparent;\n",
              "      border-left-color: var(--fill-color);\n",
              "      border-top-color: var(--fill-color);\n",
              "      border-right-color: var(--fill-color);\n",
              "    }\n",
              "    40% {\n",
              "      border-color: transparent;\n",
              "      border-right-color: var(--fill-color);\n",
              "      border-top-color: var(--fill-color);\n",
              "    }\n",
              "    60% {\n",
              "      border-color: transparent;\n",
              "      border-right-color: var(--fill-color);\n",
              "    }\n",
              "    80% {\n",
              "      border-color: transparent;\n",
              "      border-right-color: var(--fill-color);\n",
              "      border-bottom-color: var(--fill-color);\n",
              "    }\n",
              "    90% {\n",
              "      border-color: transparent;\n",
              "      border-bottom-color: var(--fill-color);\n",
              "    }\n",
              "  }\n",
              "</style>\n",
              "\n",
              "  <script>\n",
              "    async function quickchart(key) {\n",
              "      const quickchartButtonEl =\n",
              "        document.querySelector('#' + key + ' button');\n",
              "      quickchartButtonEl.disabled = true;  // To prevent multiple clicks.\n",
              "      quickchartButtonEl.classList.add('colab-df-spinner');\n",
              "      try {\n",
              "        const charts = await google.colab.kernel.invokeFunction(\n",
              "            'suggestCharts', [key], {});\n",
              "      } catch (error) {\n",
              "        console.error('Error during call to suggestCharts:', error);\n",
              "      }\n",
              "      quickchartButtonEl.classList.remove('colab-df-spinner');\n",
              "      quickchartButtonEl.classList.add('colab-df-quickchart-complete');\n",
              "    }\n",
              "    (() => {\n",
              "      let quickchartButtonEl =\n",
              "        document.querySelector('#df-52f9ff28-dd0e-4738-8b9a-465b62de5364 button');\n",
              "      quickchartButtonEl.style.display =\n",
              "        google.colab.kernel.accessAllowed ? 'block' : 'none';\n",
              "    })();\n",
              "  </script>\n",
              "</div>\n",
              "    </div>\n",
              "  </div>\n"
            ],
            "application/vnd.google.colaboratory.intrinsic+json": {
              "type": "dataframe"
            }
          },
          "metadata": {},
          "execution_count": 35
        }
      ]
    },
    {
      "cell_type": "markdown",
      "source": [
        "## Отбор случайным образом  𝑠𝑞𝑟𝑡(𝑛)  признаков"
      ],
      "metadata": {
        "id": "lWoOgEex7zl9"
      }
    },
    {
      "cell_type": "code",
      "source": [
        "n = math.ceil(math.sqrt(len(X.columns))) # количество случайных признаков, которые будут выбраны\n",
        "random_features = random.sample(list(X.columns), n)\n",
        "filtered_X = X[random_features]\n",
        "filtered_X.head()"
      ],
      "metadata": {
        "colab": {
          "base_uri": "https://localhost:8080/",
          "height": 206
        },
        "id": "QsupMIjX73xI",
        "outputId": "f5f6fa3d-fb0e-4520-97f4-5216ef71914c"
      },
      "execution_count": null,
      "outputs": [
        {
          "output_type": "execute_result",
          "data": {
            "text/plain": [
              "  ring-number stalk-shape habitat veil-type cap-shape\n",
              "0           o           e       u         p         x\n",
              "1           o           e       g         p         x\n",
              "2           o           e       m         p         b\n",
              "3           o           e       u         p         x\n",
              "4           o           t       g         p         x"
            ],
            "text/html": [
              "\n",
              "  <div id=\"df-d2564efa-a5f3-42a9-9ff3-a3a20e1c7375\" class=\"colab-df-container\">\n",
              "    <div>\n",
              "<style scoped>\n",
              "    .dataframe tbody tr th:only-of-type {\n",
              "        vertical-align: middle;\n",
              "    }\n",
              "\n",
              "    .dataframe tbody tr th {\n",
              "        vertical-align: top;\n",
              "    }\n",
              "\n",
              "    .dataframe thead th {\n",
              "        text-align: right;\n",
              "    }\n",
              "</style>\n",
              "<table border=\"1\" class=\"dataframe\">\n",
              "  <thead>\n",
              "    <tr style=\"text-align: right;\">\n",
              "      <th></th>\n",
              "      <th>ring-number</th>\n",
              "      <th>stalk-shape</th>\n",
              "      <th>habitat</th>\n",
              "      <th>veil-type</th>\n",
              "      <th>cap-shape</th>\n",
              "    </tr>\n",
              "  </thead>\n",
              "  <tbody>\n",
              "    <tr>\n",
              "      <th>0</th>\n",
              "      <td>o</td>\n",
              "      <td>e</td>\n",
              "      <td>u</td>\n",
              "      <td>p</td>\n",
              "      <td>x</td>\n",
              "    </tr>\n",
              "    <tr>\n",
              "      <th>1</th>\n",
              "      <td>o</td>\n",
              "      <td>e</td>\n",
              "      <td>g</td>\n",
              "      <td>p</td>\n",
              "      <td>x</td>\n",
              "    </tr>\n",
              "    <tr>\n",
              "      <th>2</th>\n",
              "      <td>o</td>\n",
              "      <td>e</td>\n",
              "      <td>m</td>\n",
              "      <td>p</td>\n",
              "      <td>b</td>\n",
              "    </tr>\n",
              "    <tr>\n",
              "      <th>3</th>\n",
              "      <td>o</td>\n",
              "      <td>e</td>\n",
              "      <td>u</td>\n",
              "      <td>p</td>\n",
              "      <td>x</td>\n",
              "    </tr>\n",
              "    <tr>\n",
              "      <th>4</th>\n",
              "      <td>o</td>\n",
              "      <td>t</td>\n",
              "      <td>g</td>\n",
              "      <td>p</td>\n",
              "      <td>x</td>\n",
              "    </tr>\n",
              "  </tbody>\n",
              "</table>\n",
              "</div>\n",
              "    <div class=\"colab-df-buttons\">\n",
              "\n",
              "  <div class=\"colab-df-container\">\n",
              "    <button class=\"colab-df-convert\" onclick=\"convertToInteractive('df-d2564efa-a5f3-42a9-9ff3-a3a20e1c7375')\"\n",
              "            title=\"Convert this dataframe to an interactive table.\"\n",
              "            style=\"display:none;\">\n",
              "\n",
              "  <svg xmlns=\"http://www.w3.org/2000/svg\" height=\"24px\" viewBox=\"0 -960 960 960\">\n",
              "    <path d=\"M120-120v-720h720v720H120Zm60-500h600v-160H180v160Zm220 220h160v-160H400v160Zm0 220h160v-160H400v160ZM180-400h160v-160H180v160Zm440 0h160v-160H620v160ZM180-180h160v-160H180v160Zm440 0h160v-160H620v160Z\"/>\n",
              "  </svg>\n",
              "    </button>\n",
              "\n",
              "  <style>\n",
              "    .colab-df-container {\n",
              "      display:flex;\n",
              "      gap: 12px;\n",
              "    }\n",
              "\n",
              "    .colab-df-convert {\n",
              "      background-color: #E8F0FE;\n",
              "      border: none;\n",
              "      border-radius: 50%;\n",
              "      cursor: pointer;\n",
              "      display: none;\n",
              "      fill: #1967D2;\n",
              "      height: 32px;\n",
              "      padding: 0 0 0 0;\n",
              "      width: 32px;\n",
              "    }\n",
              "\n",
              "    .colab-df-convert:hover {\n",
              "      background-color: #E2EBFA;\n",
              "      box-shadow: 0px 1px 2px rgba(60, 64, 67, 0.3), 0px 1px 3px 1px rgba(60, 64, 67, 0.15);\n",
              "      fill: #174EA6;\n",
              "    }\n",
              "\n",
              "    .colab-df-buttons div {\n",
              "      margin-bottom: 4px;\n",
              "    }\n",
              "\n",
              "    [theme=dark] .colab-df-convert {\n",
              "      background-color: #3B4455;\n",
              "      fill: #D2E3FC;\n",
              "    }\n",
              "\n",
              "    [theme=dark] .colab-df-convert:hover {\n",
              "      background-color: #434B5C;\n",
              "      box-shadow: 0px 1px 3px 1px rgba(0, 0, 0, 0.15);\n",
              "      filter: drop-shadow(0px 1px 2px rgba(0, 0, 0, 0.3));\n",
              "      fill: #FFFFFF;\n",
              "    }\n",
              "  </style>\n",
              "\n",
              "    <script>\n",
              "      const buttonEl =\n",
              "        document.querySelector('#df-d2564efa-a5f3-42a9-9ff3-a3a20e1c7375 button.colab-df-convert');\n",
              "      buttonEl.style.display =\n",
              "        google.colab.kernel.accessAllowed ? 'block' : 'none';\n",
              "\n",
              "      async function convertToInteractive(key) {\n",
              "        const element = document.querySelector('#df-d2564efa-a5f3-42a9-9ff3-a3a20e1c7375');\n",
              "        const dataTable =\n",
              "          await google.colab.kernel.invokeFunction('convertToInteractive',\n",
              "                                                    [key], {});\n",
              "        if (!dataTable) return;\n",
              "\n",
              "        const docLinkHtml = 'Like what you see? Visit the ' +\n",
              "          '<a target=\"_blank\" href=https://colab.research.google.com/notebooks/data_table.ipynb>data table notebook</a>'\n",
              "          + ' to learn more about interactive tables.';\n",
              "        element.innerHTML = '';\n",
              "        dataTable['output_type'] = 'display_data';\n",
              "        await google.colab.output.renderOutput(dataTable, element);\n",
              "        const docLink = document.createElement('div');\n",
              "        docLink.innerHTML = docLinkHtml;\n",
              "        element.appendChild(docLink);\n",
              "      }\n",
              "    </script>\n",
              "  </div>\n",
              "\n",
              "\n",
              "<div id=\"df-9369c7f4-70c2-4153-97a6-2f36e7387676\">\n",
              "  <button class=\"colab-df-quickchart\" onclick=\"quickchart('df-9369c7f4-70c2-4153-97a6-2f36e7387676')\"\n",
              "            title=\"Suggest charts\"\n",
              "            style=\"display:none;\">\n",
              "\n",
              "<svg xmlns=\"http://www.w3.org/2000/svg\" height=\"24px\"viewBox=\"0 0 24 24\"\n",
              "     width=\"24px\">\n",
              "    <g>\n",
              "        <path d=\"M19 3H5c-1.1 0-2 .9-2 2v14c0 1.1.9 2 2 2h14c1.1 0 2-.9 2-2V5c0-1.1-.9-2-2-2zM9 17H7v-7h2v7zm4 0h-2V7h2v10zm4 0h-2v-4h2v4z\"/>\n",
              "    </g>\n",
              "</svg>\n",
              "  </button>\n",
              "\n",
              "<style>\n",
              "  .colab-df-quickchart {\n",
              "      --bg-color: #E8F0FE;\n",
              "      --fill-color: #1967D2;\n",
              "      --hover-bg-color: #E2EBFA;\n",
              "      --hover-fill-color: #174EA6;\n",
              "      --disabled-fill-color: #AAA;\n",
              "      --disabled-bg-color: #DDD;\n",
              "  }\n",
              "\n",
              "  [theme=dark] .colab-df-quickchart {\n",
              "      --bg-color: #3B4455;\n",
              "      --fill-color: #D2E3FC;\n",
              "      --hover-bg-color: #434B5C;\n",
              "      --hover-fill-color: #FFFFFF;\n",
              "      --disabled-bg-color: #3B4455;\n",
              "      --disabled-fill-color: #666;\n",
              "  }\n",
              "\n",
              "  .colab-df-quickchart {\n",
              "    background-color: var(--bg-color);\n",
              "    border: none;\n",
              "    border-radius: 50%;\n",
              "    cursor: pointer;\n",
              "    display: none;\n",
              "    fill: var(--fill-color);\n",
              "    height: 32px;\n",
              "    padding: 0;\n",
              "    width: 32px;\n",
              "  }\n",
              "\n",
              "  .colab-df-quickchart:hover {\n",
              "    background-color: var(--hover-bg-color);\n",
              "    box-shadow: 0 1px 2px rgba(60, 64, 67, 0.3), 0 1px 3px 1px rgba(60, 64, 67, 0.15);\n",
              "    fill: var(--button-hover-fill-color);\n",
              "  }\n",
              "\n",
              "  .colab-df-quickchart-complete:disabled,\n",
              "  .colab-df-quickchart-complete:disabled:hover {\n",
              "    background-color: var(--disabled-bg-color);\n",
              "    fill: var(--disabled-fill-color);\n",
              "    box-shadow: none;\n",
              "  }\n",
              "\n",
              "  .colab-df-spinner {\n",
              "    border: 2px solid var(--fill-color);\n",
              "    border-color: transparent;\n",
              "    border-bottom-color: var(--fill-color);\n",
              "    animation:\n",
              "      spin 1s steps(1) infinite;\n",
              "  }\n",
              "\n",
              "  @keyframes spin {\n",
              "    0% {\n",
              "      border-color: transparent;\n",
              "      border-bottom-color: var(--fill-color);\n",
              "      border-left-color: var(--fill-color);\n",
              "    }\n",
              "    20% {\n",
              "      border-color: transparent;\n",
              "      border-left-color: var(--fill-color);\n",
              "      border-top-color: var(--fill-color);\n",
              "    }\n",
              "    30% {\n",
              "      border-color: transparent;\n",
              "      border-left-color: var(--fill-color);\n",
              "      border-top-color: var(--fill-color);\n",
              "      border-right-color: var(--fill-color);\n",
              "    }\n",
              "    40% {\n",
              "      border-color: transparent;\n",
              "      border-right-color: var(--fill-color);\n",
              "      border-top-color: var(--fill-color);\n",
              "    }\n",
              "    60% {\n",
              "      border-color: transparent;\n",
              "      border-right-color: var(--fill-color);\n",
              "    }\n",
              "    80% {\n",
              "      border-color: transparent;\n",
              "      border-right-color: var(--fill-color);\n",
              "      border-bottom-color: var(--fill-color);\n",
              "    }\n",
              "    90% {\n",
              "      border-color: transparent;\n",
              "      border-bottom-color: var(--fill-color);\n",
              "    }\n",
              "  }\n",
              "</style>\n",
              "\n",
              "  <script>\n",
              "    async function quickchart(key) {\n",
              "      const quickchartButtonEl =\n",
              "        document.querySelector('#' + key + ' button');\n",
              "      quickchartButtonEl.disabled = true;  // To prevent multiple clicks.\n",
              "      quickchartButtonEl.classList.add('colab-df-spinner');\n",
              "      try {\n",
              "        const charts = await google.colab.kernel.invokeFunction(\n",
              "            'suggestCharts', [key], {});\n",
              "      } catch (error) {\n",
              "        console.error('Error during call to suggestCharts:', error);\n",
              "      }\n",
              "      quickchartButtonEl.classList.remove('colab-df-spinner');\n",
              "      quickchartButtonEl.classList.add('colab-df-quickchart-complete');\n",
              "    }\n",
              "    (() => {\n",
              "      let quickchartButtonEl =\n",
              "        document.querySelector('#df-9369c7f4-70c2-4153-97a6-2f36e7387676 button');\n",
              "      quickchartButtonEl.style.display =\n",
              "        google.colab.kernel.accessAllowed ? 'block' : 'none';\n",
              "    })();\n",
              "  </script>\n",
              "</div>\n",
              "    </div>\n",
              "  </div>\n"
            ],
            "application/vnd.google.colaboratory.intrinsic+json": {
              "type": "dataframe",
              "variable_name": "filtered_X",
              "summary": "{\n  \"name\": \"filtered_X\",\n  \"rows\": 8124,\n  \"fields\": [\n    {\n      \"column\": \"ring-number\",\n      \"properties\": {\n        \"dtype\": \"category\",\n        \"num_unique_values\": 3,\n        \"samples\": [\n          \"o\",\n          \"t\",\n          \"n\"\n        ],\n        \"semantic_type\": \"\",\n        \"description\": \"\"\n      }\n    },\n    {\n      \"column\": \"stalk-shape\",\n      \"properties\": {\n        \"dtype\": \"category\",\n        \"num_unique_values\": 2,\n        \"samples\": [\n          \"t\",\n          \"e\"\n        ],\n        \"semantic_type\": \"\",\n        \"description\": \"\"\n      }\n    },\n    {\n      \"column\": \"habitat\",\n      \"properties\": {\n        \"dtype\": \"category\",\n        \"num_unique_values\": 7,\n        \"samples\": [\n          \"u\",\n          \"g\"\n        ],\n        \"semantic_type\": \"\",\n        \"description\": \"\"\n      }\n    },\n    {\n      \"column\": \"veil-type\",\n      \"properties\": {\n        \"dtype\": \"category\",\n        \"num_unique_values\": 1,\n        \"samples\": [\n          \"p\"\n        ],\n        \"semantic_type\": \"\",\n        \"description\": \"\"\n      }\n    },\n    {\n      \"column\": \"cap-shape\",\n      \"properties\": {\n        \"dtype\": \"category\",\n        \"num_unique_values\": 6,\n        \"samples\": [\n          \"x\"\n        ],\n        \"semantic_type\": \"\",\n        \"description\": \"\"\n      }\n    }\n  ]\n}"
            }
          },
          "metadata": {},
          "execution_count": 36
        }
      ]
    },
    {
      "cell_type": "markdown",
      "source": [
        "Разделение на обучающий и тестовый наборы"
      ],
      "metadata": {
        "id": "2hLDLcw0_n3P"
      }
    },
    {
      "cell_type": "code",
      "source": [
        "# Устанавливаем долю данных для обучения на уровне 80%\n",
        "train_ratio = 0.8\n",
        "# перемешивает строки DataFrame filtered_X случайным образом.\n",
        "indices = np.random.permutation(len(filtered_X))\n",
        "\n",
        "train_size = int(len(filtered_X) * train_ratio)\n",
        "train_indices = indices[:train_size]\n",
        "test_indices = indices[train_size:]\n",
        "\n",
        "X_train, X_test = filtered_X.iloc[train_indices], filtered_X.iloc[test_indices]\n",
        "y_train, y_test = y.iloc[train_indices], y.iloc[test_indices]"
      ],
      "metadata": {
        "id": "artOFHyz_svu"
      },
      "execution_count": null,
      "outputs": []
    },
    {
      "cell_type": "markdown",
      "source": [
        "## Реализация Дерева решений"
      ],
      "metadata": {
        "id": "1mwB8t3XA2P1"
      }
    },
    {
      "cell_type": "markdown",
      "source": [
        "Дерево решений используется для того, чтобы на основе входных данных (признаков) делать предсказания о целевой переменной"
      ],
      "metadata": {
        "id": "DI5U5mVQInlI"
      }
    },
    {
      "cell_type": "markdown",
      "source": [
        "Энтропия — это мера неопределенности или разнообразия значений в данных."
      ],
      "metadata": {
        "id": "MLciYtV4A46G"
      }
    },
    {
      "cell_type": "markdown",
      "source": [
        "Определить, какие признаки наиболее информативны для целевой переменной.\n",
        "\n",
        "Как это работает:\n",
        "\n",
        "- Чем ниже энтропия, тем меньше неопределенности.\n",
        "\n",
        "- Признаки с низкой энтропией содержат меньше разнообразия и могут быть менее полезными.\n",
        "\n",
        "- Признаки с высокой энтропией более вариативны и потенциально более полезны для классификации или предсказания."
      ],
      "metadata": {
        "id": "tPLqK6lsBIAe"
      }
    },
    {
      "cell_type": "markdown",
      "source": [
        "$Info(T)=-\\sum^{k}_{j=1}\\frac{freq(C_j, T)}{|T|}\\cdot log_2(\\frac{freq(C_j, T)}{|T|})$"
      ],
      "metadata": {
        "id": "XdzKGXb3B2WX"
      }
    },
    {
      "cell_type": "code",
      "source": [
        "def entropy(y):\n",
        "  _, counts = np.unique(y, return_counts=True)\n",
        "\n",
        "  prob = counts / len(y)\n",
        "  return -np.sum(prob * np.log2(prob))"
      ],
      "metadata": {
        "id": "CqirgyUlB0B6"
      },
      "execution_count": null,
      "outputs": []
    },
    {
      "cell_type": "markdown",
      "source": [
        "Считаем изменение энтропии (энтропия до - условная энтропия (степень неопределенности Y после установления случайной величины X))\n",
        "\n",
        "$\\text{Info}_x(T)=\\sum^{n}_{i=1}(\\frac{|T_i|}{|T|}\\cdot \\text{Info}(T_i))$"
      ],
      "metadata": {
        "id": "yg5wVreVDko6"
      }
    },
    {
      "cell_type": "code",
      "source": [
        "def information_gain(X, y, feature_index):\n",
        "  feature_values = X.iloc[:, feature_index]\n",
        "\n",
        "  unique_values = np.unique(feature_values)\n",
        "\n",
        "  entropy_before = entropy(y)\n",
        "\n",
        "  weighted_entropy = 0\n",
        "\n",
        "# Проходим по каждому уникальному значению признака\n",
        "  for value in unique_values:\n",
        "    # Выбираем подмножество меток y, где признак имеет значение 'value'\n",
        "    subset_y = y[feature_values == value]\n",
        "    weighted_entropy += len(subset_y) / len(y) * entropy(subset_y)\n",
        "\n",
        "  return entropy_before - weighted_entropy"
      ],
      "metadata": {
        "id": "E7amok3sDooY"
      },
      "execution_count": null,
      "outputs": []
    },
    {
      "cell_type": "code",
      "source": [
        "def best_split(X, y):\n",
        "    # Инициализируем переменные для хранения наилучшего прироста информации и соответствующего признака\n",
        "    best_gain = -1  # Прирост информации, начинаем с очень маленького значения\n",
        "    best_feature = -1  # Индекс признака, который дает лучший прирост информации\n",
        "\n",
        "    # Проходим по всем признакам (столбцам) в X\n",
        "    for i in range(X.shape[1]):\n",
        "        # Вычисляем прирост информации для текущего признака (столбца)\n",
        "        gain = information_gain(X, y, i)\n",
        "\n",
        "        # Если прирост информации для текущего признака лучше, чем предыдущий лучший\n",
        "        if gain > best_gain:\n",
        "            # Обновляем наилучший прирост и соответствующий признак\n",
        "            best_gain = gain\n",
        "            best_feature = i\n",
        "\n",
        "    # Возвращаем индекс признака, который дал наибольший прирост информации\n",
        "    return best_feature"
      ],
      "metadata": {
        "id": "ENMTuwC_HKqz"
      },
      "execution_count": null,
      "outputs": []
    },
    {
      "cell_type": "markdown",
      "source": [
        "Строим дерево согласно алгоритму C4.5\n",
        "\n",
        "Алгоритм выбирает на каждом шаге наилучший признак для разбиения данных, используя различные метрики для оценки качества разбиений."
      ],
      "metadata": {
        "id": "z9AyinQQH2P5"
      }
    },
    {
      "cell_type": "code",
      "source": [
        "def build_tree(X, y, depth=0):\n",
        "    # Если все метки в целевой переменной одинаковы, создаем листовое дерево с этой меткой\n",
        "    if len(np.unique(y)) == 1:\n",
        "        label = y.iloc[0]['poisonous']  # Определяем метку (класс)\n",
        "        # Возвращаем узел с меткой и вероятностями для классов\n",
        "        return {'label': label, 'probabilities': {label: 1.0, ('p' if label == 'e' else 'e'): 0.0}}\n",
        "\n",
        "    # Если нет признаков для разделения (X.shape[1] == 0), возвращаем наиболее частую метку\n",
        "    if X.shape[1] == 0:\n",
        "        label = y['poisonous'].value_counts().idxmax()  # Определяем наиболее часто встречающийся класс\n",
        "        total = len(y)  # Общее количество примеров в подмножестве\n",
        "        # Считаем вероятности для каждого класса\n",
        "        probabilities = y['poisonous'].value_counts(normalize=True).to_dict()\n",
        "        return {'label': label, 'probabilities': probabilities}\n",
        "\n",
        "    # Выбираем лучший признак для разбиения с помощью функции best_split\n",
        "    best_feature = best_split(X, y)\n",
        "\n",
        "    best_feature_name = X.columns[best_feature]  # Имя признака, который был выбран для разделения\n",
        "    tree = {'feature': best_feature_name}  # Создаем узел дерева для выбранного признака\n",
        "\n",
        "    # Получаем уникальные значения выбранного признака\n",
        "    unique_values = np.unique(X.iloc[:, best_feature])\n",
        "    subtrees = {}  # Словарь для хранения поддеревьев (разбиений)\n",
        "\n",
        "    # Для каждого уникального значения признака создаем поддерево\n",
        "    for value in unique_values:\n",
        "        # Создаем подмножество данных для текущего значения признака\n",
        "        subset_X = X[X.iloc[:, best_feature] == value].drop(columns=[best_feature_name])\n",
        "        subset_y = y[X.iloc[:, best_feature] == value]\n",
        "\n",
        "        # Рекурсивно строим поддерево для текущего значения признака\n",
        "        subtrees[value] = build_tree(subset_X, subset_y, depth + 1)\n",
        "\n",
        "    # Добавляем поддеревья в текущий узел\n",
        "    tree['subtrees'] = subtrees\n",
        "    return tree"
      ],
      "metadata": {
        "id": "4frp__D3JhIB"
      },
      "execution_count": null,
      "outputs": []
    },
    {
      "cell_type": "code",
      "source": [
        "tree = build_tree(X_train, y_train)\n",
        "print(tree)"
      ],
      "metadata": {
        "colab": {
          "base_uri": "https://localhost:8080/"
        },
        "id": "_0-FpcQmJtZm",
        "outputId": "155b28a7-5fca-4eed-d65e-38830dc6e93a"
      },
      "execution_count": null,
      "outputs": [
        {
          "output_type": "stream",
          "name": "stdout",
          "text": [
            "{'feature': 'habitat', 'subtrees': {'d': {'feature': 'stalk-shape', 'subtrees': {'e': {'feature': 'ring-number', 'subtrees': {'n': {'label': 'p', 'probabilities': {'p': 1.0, 'e': 0.0}}, 'o': {'feature': 'cap-shape', 'subtrees': {'b': {'label': 'p', 'probabilities': {'p': 1.0, 'e': 0.0}}, 'f': {'feature': 'veil-type', 'subtrees': {'p': {'label': 'p', 'probabilities': {'p': 0.923469387755102, 'e': 0.07653061224489796}}}}, 'k': {'label': 'p', 'probabilities': {'p': 1.0, 'e': 0.0}}, 'x': {'feature': 'veil-type', 'subtrees': {'p': {'label': 'p', 'probabilities': {'p': 0.9508670520231214, 'e': 0.049132947976878616}}}}}}, 't': {'label': 'e', 'probabilities': {'e': 1.0, 'p': 0.0}}}}, 't': {'feature': 'cap-shape', 'subtrees': {'f': {'feature': 'ring-number', 'subtrees': {'o': {'feature': 'veil-type', 'subtrees': {'p': {'label': 'e', 'probabilities': {'e': 0.8308571428571428, 'p': 0.16914285714285715}}}}}}, 'k': {'label': 'p', 'probabilities': {'p': 1.0, 'e': 0.0}}, 'x': {'feature': 'ring-number', 'subtrees': {'o': {'feature': 'veil-type', 'subtrees': {'p': {'label': 'e', 'probabilities': {'e': 0.8303370786516854, 'p': 0.1696629213483146}}}}}}}}}}, 'g': {'feature': 'stalk-shape', 'subtrees': {'e': {'feature': 'cap-shape', 'subtrees': {'b': {'feature': 'ring-number', 'subtrees': {'o': {'label': 'e', 'probabilities': {'e': 1.0, 'p': 0.0}}, 't': {'feature': 'veil-type', 'subtrees': {'p': {'label': 'e', 'probabilities': {'e': 0.8369565217391305, 'p': 0.16304347826086957}}}}}}, 'f': {'feature': 'ring-number', 'subtrees': {'o': {'feature': 'veil-type', 'subtrees': {'p': {'label': 'p', 'probabilities': {'p': 0.8473282442748091, 'e': 0.15267175572519084}}}}, 't': {'label': 'p', 'probabilities': {'p': 1.0, 'e': 0.0}}}}, 'k': {'label': 'e', 'probabilities': {'e': 1.0, 'p': 0.0}}, 'x': {'feature': 'ring-number', 'subtrees': {'o': {'feature': 'veil-type', 'subtrees': {'p': {'label': 'p', 'probabilities': {'p': 0.6032608695652174, 'e': 0.3967391304347826}}}}, 't': {'label': 'e', 'probabilities': {'e': 1.0, 'p': 0.0}}}}}}, 't': {'feature': 'cap-shape', 'subtrees': {'f': {'feature': 'ring-number', 'subtrees': {'o': {'feature': 'veil-type', 'subtrees': {'p': {'label': 'e', 'probabilities': {'e': 0.8526912181303116, 'p': 0.14730878186968838}}}}}}, 'x': {'feature': 'ring-number', 'subtrees': {'o': {'feature': 'veil-type', 'subtrees': {'p': {'label': 'e', 'probabilities': {'e': 0.850828729281768, 'p': 0.14917127071823205}}}}}}}}}}, 'l': {'feature': 'stalk-shape', 'subtrees': {'e': {'feature': 'cap-shape', 'subtrees': {'b': {'feature': 'ring-number', 'subtrees': {'o': {'feature': 'veil-type', 'subtrees': {'p': {'label': 'e', 'probabilities': {'e': 0.9574468085106383, 'p': 0.0425531914893617}}}}}}, 'c': {'label': 'p', 'probabilities': {'p': 1.0, 'e': 0.0}}, 'f': {'feature': 'ring-number', 'subtrees': {'o': {'feature': 'veil-type', 'subtrees': {'p': {'label': 'e', 'probabilities': {'e': 0.94, 'p': 0.06}}}}}}, 'k': {'feature': 'ring-number', 'subtrees': {'o': {'feature': 'veil-type', 'subtrees': {'p': {'label': 'e', 'probabilities': {'e': 0.9423076923076923, 'p': 0.057692307692307696}}}}}}, 'x': {'label': 'e', 'probabilities': {'e': 1.0, 'p': 0.0}}}}, 't': {'label': 'p', 'probabilities': {'p': 1.0, 'e': 0.0}}}}, 'm': {'feature': 'ring-number', 'subtrees': {'o': {'label': 'e', 'probabilities': {'e': 1.0, 'p': 0.0}}, 't': {'label': 'p', 'probabilities': {'p': 1.0, 'e': 0.0}}}}, 'p': {'feature': 'stalk-shape', 'subtrees': {'e': {'feature': 'ring-number', 'subtrees': {'o': {'feature': 'cap-shape', 'subtrees': {'f': {'feature': 'veil-type', 'subtrees': {'p': {'label': 'p', 'probabilities': {'p': 0.812206572769953, 'e': 0.18779342723004694}}}}, 'x': {'feature': 'veil-type', 'subtrees': {'p': {'label': 'p', 'probabilities': {'p': 0.8142857142857143, 'e': 0.18571428571428572}}}}}}, 't': {'label': 'e', 'probabilities': {'e': 1.0, 'p': 0.0}}}}, 't': {'label': 'p', 'probabilities': {'p': 1.0, 'e': 0.0}}}}, 'u': {'feature': 'stalk-shape', 'subtrees': {'e': {'feature': 'cap-shape', 'subtrees': {'f': {'feature': 'ring-number', 'subtrees': {'o': {'feature': 'veil-type', 'subtrees': {'p': {'label': 'p', 'probabilities': {'p': 0.6585365853658537, 'e': 0.34146341463414637}}}}}}, 's': {'label': 'e', 'probabilities': {'e': 1.0, 'p': 0.0}}, 'x': {'feature': 'ring-number', 'subtrees': {'o': {'feature': 'veil-type', 'subtrees': {'p': {'label': 'p', 'probabilities': {'p': 0.6455696202531646, 'e': 0.35443037974683544}}}}}}}}, 't': {'label': 'p', 'probabilities': {'p': 1.0, 'e': 0.0}}}}, 'w': {'label': 'e', 'probabilities': {'e': 1.0, 'p': 0.0}}}}\n"
          ]
        }
      ]
    },
    {
      "cell_type": "markdown",
      "source": [
        "## Предсказание"
      ],
      "metadata": {
        "id": "MnNc6SLHJ2em"
      }
    },
    {
      "cell_type": "markdown",
      "source": [
        "Предсказание для одного набора параметров"
      ],
      "metadata": {
        "id": "OAegyc3iJ4Q3"
      }
    },
    {
      "cell_type": "code",
      "source": [
        "def predict(tree, X):\n",
        "  if 'label' in tree:\n",
        "    return tree['label']\n",
        "  if X[tree['feature']].empty:\n",
        "    return None\n",
        "  feature_value = X[tree['feature']].iloc[0]\n",
        "  subtree = tree['subtrees'].get(feature_value)\n",
        "\n",
        "  return predict(subtree, X)"
      ],
      "metadata": {
        "id": "-E_xDlk0J7tR"
      },
      "execution_count": null,
      "outputs": []
    },
    {
      "cell_type": "markdown",
      "source": [
        "Предсказание для всех наборов параметров"
      ],
      "metadata": {
        "id": "TX1pVRkYJ-F0"
      }
    },
    {
      "cell_type": "code",
      "source": [
        "def predict_all(tree, X_test):\n",
        "  predictions = pd.DataFrame({\n",
        "    'poisonous': []\n",
        "  })\n",
        "\n",
        "  for i in range(X_test.shape[0]):\n",
        "    prediction = predict(tree, X_test[i:i + 1])\n",
        "    predictions.loc[X_test.index[i]] = {'poisonous': prediction}\n",
        "\n",
        "  return predictions"
      ],
      "metadata": {
        "id": "1jisZ6xoKAm1"
      },
      "execution_count": null,
      "outputs": []
    },
    {
      "cell_type": "markdown",
      "source": [
        "## Оценка предсказаний с использованием Accuracy, Precision и Recall"
      ],
      "metadata": {
        "id": "jNYUMVCXKLpy"
      }
    },
    {
      "cell_type": "markdown",
      "source": [
        "Правильность $\\text{Accuracy}=\\frac{\\text{TP}+\\text{TN}}{N}$\n",
        "\n",
        "Способность отличать этот класс от других $\\text{Precision}=\\frac{\\text{TP}}{\\text{TP}+\\text{FP}}$\n",
        "\n",
        "Способность обнаруживать данный класс, sensitivity $\\text{Recall}=\\frac{\\text{TP}}{\\text{TP}+\\text{FN}}$"
      ],
      "metadata": {
        "id": "CZIfN4tjKROZ"
      }
    },
    {
      "cell_type": "code",
      "source": [
        "def evaluate(y_true, y_pred):\n",
        "    # Создаем отображение меток ('p' -> 1, 'e' -> 0) для перевода в числовые значения\n",
        "    label_map = {'p': 1, 'e': 0}\n",
        "\n",
        "    # Преобразуем целевые значения и предсказания в числовые метки (1 для 'p', 0 для 'e')\n",
        "    y_true_numeric = [label_map[val] for val in y_true['poisonous']]\n",
        "    y_pred_numeric = [label_map[val] for val in y_pred['poisonous']]\n",
        "\n",
        "    # Инициализация счетчиков для различных типов ошибок\n",
        "    TP = TN = FP = FN = 0  # True Positive, True Negative, False Positive, False Negative\n",
        "\n",
        "    # Пройдемся по всем элементам в истинных и предсказанных метках и обновим счетчики\n",
        "    for true, pred in zip(y_true_numeric, y_pred_numeric):\n",
        "        if true == 1 and pred == 1:\n",
        "            TP += 1\n",
        "        elif true == 0 and pred == 0:\n",
        "            TN += 1\n",
        "        elif true == 0 and pred == 1:\n",
        "            FP += 1\n",
        "        elif true == 1 and pred == 0:\n",
        "            FN += 1\n",
        "\n",
        "\n",
        "    accuracy = (TP + TN) / (TP + TN + FP + FN) if (TP + TN + FP + FN) > 0 else 0\n",
        "\n",
        "    precision = TP / (TP + FP) if (TP + FP) > 0 else 0\n",
        "\n",
        "    recall = TP / (TP + FN) if (TP + FN) > 0 else 0\n",
        "\n",
        "    return {'accuracy': accuracy, 'precision': precision, 'recall': recall}\n"
      ],
      "metadata": {
        "id": "Ue7ldSklKqlc"
      },
      "execution_count": null,
      "outputs": []
    },
    {
      "cell_type": "code",
      "source": [
        "prediction = predict_all(tree, X_test)"
      ],
      "metadata": {
        "id": "Sweyid1VLNya"
      },
      "execution_count": null,
      "outputs": []
    },
    {
      "cell_type": "code",
      "source": [
        "evaluate(y_test, prediction)"
      ],
      "metadata": {
        "colab": {
          "base_uri": "https://localhost:8080/"
        },
        "id": "nZK6KLLkLPXE",
        "outputId": "ee726cbd-1d94-45bd-c2b7-96f69461f540"
      },
      "execution_count": null,
      "outputs": [
        {
          "output_type": "execute_result",
          "data": {
            "text/plain": [
              "{'accuracy': 0.8713846153846154,\n",
              " 'precision': 0.8929539295392954,\n",
              " 'recall': 0.835234474017744}"
            ]
          },
          "metadata": {},
          "execution_count": 47
        }
      ]
    },
    {
      "cell_type": "markdown",
      "source": [
        "## ROC"
      ],
      "metadata": {
        "id": "qlfA9JLGLVzl"
      }
    },
    {
      "cell_type": "markdown",
      "source": [
        "\n",
        "ROC (Receiver Operating Characteristic) — это график, который используется для оценки качества бинарной классификации. Он показывает соотношение между истинно положительными и ложно положительными результатами при разных порогах классификации."
      ],
      "metadata": {
        "id": "AvGXEld8LaVg"
      }
    },
    {
      "cell_type": "markdown",
      "source": [
        "\n",
        "PR (Precision-Recall) — это еще одна пара метрик, используемая для оценки качества классификации, особенно в задачах с несбалансированными классами. В отличие от ROC-кривой, которая учитывает как ложноположительные, так и истинноположительные результаты, PR-кривая фокусируется исключительно на положительном классе"
      ],
      "metadata": {
        "id": "VG8KrOFhN5k8"
      }
    },
    {
      "cell_type": "code",
      "source": [
        "def predict_with_probabilities(tree, X):\n",
        "    # Если в дереве есть уже рассчитанные вероятности (для листа), возвращаем их\n",
        "    if 'probabilities' in tree:\n",
        "        return tree['probabilities']\n",
        "\n",
        "    # Если признак для текущего узла отсутствует в данных или он пустой, возвращаем равные вероятности\n",
        "    if tree['feature'] not in X or X[tree['feature']].empty:\n",
        "        return {'p': 0.5, 'e': 0.5}\n",
        "\n",
        "    # Получаем значение признака для текущего примера\n",
        "    feature_value = X[tree['feature']].iloc[0]\n",
        "\n",
        "    # Получаем поддерево, соответствующее значению признака\n",
        "    subtree = tree['subtrees'].get(feature_value)\n",
        "\n",
        "    # Если поддерево отсутствует, возвращаем равные вероятности\n",
        "    if subtree is None:\n",
        "        return {'p': 0.5, 'e': 0.5}\n",
        "\n",
        "    # Рекурсивно вызываем функцию для следующего уровня дерева\n",
        "    return predict_with_probabilities(subtree, X)"
      ],
      "metadata": {
        "id": "oyBN5_vCLryW"
      },
      "execution_count": null,
      "outputs": []
    },
    {
      "cell_type": "code",
      "source": [
        "def predict_all_probabilities(tree, X_test):\n",
        "    y_pred_prob = []  # Список для хранения предсказанных вероятностей для каждого примера\n",
        "\n",
        "    # Проходим по всем строкам в X_test\n",
        "    for i in range(X_test.shape[0]):\n",
        "        # Для каждого примера получаем вероятности с помощью функции predict_with_probabilities\n",
        "        probabilities = predict_with_probabilities(tree, X_test[i:i + 1])\n",
        "\n",
        "        # Добавляем вероятность для класса 'p' в список\n",
        "        y_pred_prob.append(probabilities['p'])\n",
        "\n",
        "    # Возвращаем список вероятностей для класса 'p'\n",
        "    return y_pred_prob"
      ],
      "metadata": {
        "id": "-91sL1fRL9Of"
      },
      "execution_count": null,
      "outputs": []
    },
    {
      "cell_type": "code",
      "source": [
        "def compute_metrics(y_true, y_pred_prob):\n",
        "    # Сортируем вероятности для вычисления порогов классификации (обратный порядок)\n",
        "    thresholds = [sorted(set(y_pred_prob), reverse=True)][0]\n",
        "\n",
        "    roc_points = []\n",
        "    pr_points = []\n",
        "\n",
        "    # Добавляем начальные точки для ROC и PR кривых (при пороге 0)\n",
        "    roc_points.append((0, 0))\n",
        "    pr_points.append((0, 1))\n",
        "\n",
        "    # Преобразуем метки классов в числовые значения (1 для 'p' и 0 для 'e')\n",
        "    label_map = {'p': 1, 'e': 0}\n",
        "    y_true_numeric = [label_map[val] for val in y_true['poisonous']]\n",
        "\n",
        "    # Проходим по всем возможным порогам\n",
        "    for threshold in thresholds:\n",
        "        # Классифицируем на основе порога: если вероятность >= порог, то класс 1 (положительный), иначе 0\n",
        "        y_pred_binary = [(1 if prob >= threshold else 0) for prob in y_pred_prob]\n",
        "\n",
        "        # Вычисляем TP, TN, FP, FN для данного порога\n",
        "        TP = sum(1 for true, pred in zip(y_true_numeric, y_pred_binary) if true == 1 and pred == 1)\n",
        "        TN = sum(1 for true, pred in zip(y_true_numeric, y_pred_binary) if true == 0 and pred == 0)\n",
        "        FP = sum(1 for true, pred in zip(y_true_numeric, y_pred_binary) if true == 0 and pred == 1)\n",
        "        FN = sum(1 for true, pred in zip(y_true_numeric, y_pred_binary) if true == 1 and pred == 0)\n",
        "\n",
        "        # Вычисляем метрики для ROC (TPR и FPR) и PR (Precision и Recall)\n",
        "        TPR = TP / (TP + FN) if (TP + FN) > 0 else 0  # True Positive Rate (Recall)\n",
        "        FPR = FP / (FP + TN) if (FP + TN) > 0 else 0  # False Positive Rate\n",
        "        Precision = TP / (TP + FP) if (TP + FP) > 0 else 0  # Precision\n",
        "        Recall = TP / (TP + FN) if (TP + FN) > 0 else 0  # Recall\n",
        "\n",
        "        # Добавляем текущие точки в списки для ROC и PR кривых\n",
        "        roc_points.append((FPR, TPR))\n",
        "        pr_points.append((Recall, Precision))\n",
        "\n",
        "    # Добавляем конечные точки для ROC и PR кривых (при пороге 1)\n",
        "    roc_points.append((1, 1))\n",
        "    pr_points.append((1, 0))\n",
        "\n",
        "    return roc_points, pr_points\n"
      ],
      "metadata": {
        "id": "Bbo4PVzVMbXY"
      },
      "execution_count": null,
      "outputs": []
    },
    {
      "cell_type": "code",
      "source": [
        "def plot_auc_curves(roc_points, pr_points):\n",
        "  # AUC-ROC Curve\n",
        "  # roc_points = sorted(roc_points)\n",
        "  plt.figure(figsize=(12, 6))\n",
        "\n",
        "  plt.subplot(1, 2, 1)\n",
        "  plt.plot([0, 1], [0, 1], 'k--', label='Random Guess')\n",
        "  plt.plot([x[0] for x in roc_points], [x[1] for x in roc_points], marker='o', label='ROC')\n",
        "  plt.xlabel('False Positive Rate (FPR)')\n",
        "  plt.ylabel('True Positive Rate (TPR)')\n",
        "  plt.title('AUC-ROC Curve')\n",
        "  plt.legend()\n",
        "\n",
        "  # AUC-PR Curve\n",
        "  # pr_points = sorted(pr_points, reverse=True)\n",
        "  plt.subplot(1, 2, 2)\n",
        "  plt.plot([0, 1], [1, 0], 'k--', label='Random Guess')\n",
        "  plt.plot([x[0] for x in pr_points], [x[1] for x in pr_points], marker='o', label='PR')\n",
        "  plt.xlabel('Recall')\n",
        "  plt.ylabel('Precision')\n",
        "  plt.title('AUC-PR Curve')\n",
        "  plt.legend()\n",
        "\n",
        "  plt.tight_layout()\n",
        "  plt.show()"
      ],
      "metadata": {
        "id": "eF_Yb6fPMjuB"
      },
      "execution_count": null,
      "outputs": []
    },
    {
      "cell_type": "code",
      "source": [
        "def calculate_auc(points):\n",
        "  auc = 0\n",
        "  for i in range(1, len(points)):\n",
        "    x1, y1 = points[i - 1]\n",
        "    x2, y2 = points[i]\n",
        "    auc += (x2 - x1) * (y1 + y2) / 2\n",
        "  return auc"
      ],
      "metadata": {
        "id": "BubBi4AyMoY9"
      },
      "execution_count": null,
      "outputs": []
    },
    {
      "cell_type": "code",
      "source": [
        "y_pred_prob = predict_all_probabilities(tree, X_test)\n",
        "roc_points, pr_points = compute_metrics(y_test, y_pred_prob)\n",
        "\n",
        "plot_auc_curves(roc_points, pr_points)\n",
        "\n",
        "auc_roc = calculate_auc(roc_points)\n",
        "auc_pr = calculate_auc(pr_points)\n",
        "\n",
        "print(f\"AUC-ROC: {auc_roc:.3f}\")\n",
        "print(f\"AUC-PR: {auc_pr:.3f}\")"
      ],
      "metadata": {
        "colab": {
          "base_uri": "https://localhost:8080/",
          "height": 643
        },
        "id": "wmSMmg_GMp9d",
        "outputId": "d647f41c-098a-41cf-a9ce-7de9aceb1465"
      },
      "execution_count": null,
      "outputs": [
        {
          "output_type": "display_data",
          "data": {
            "text/plain": [
              "<Figure size 1200x600 with 2 Axes>"
            ],
            "image/png": "[encoded data removed]"
          },
          "metadata": {}
        },
        {
          "output_type": "stream",
          "name": "stdout",
          "text": [
            "AUC-ROC: 0.915\n",
            "AUC-PR: 0.929\n"
          ]
        }
      ]
    },
    {
      "cell_type": "markdown",
      "source": [
        "По мере продвижения по ROC-кривой в направлении вправо и вверх, мы увеличиваем TPR (долю правильно классифицированных ядовитых грибов), однако это также приводит к увеличению FPR (доли съедобных грибов, ошибочно классифицированных как ядовитые).\n",
        "\n",
        "Когда мы двигаемся по PR-кривой вправо и вниз, точность (Precision) уменьшается, так как доля ядовитых грибов среди всех классифицированных как ядовитые становится ниже, но при этом Recall (полнота) возрастает, поскольку удается находить больше ядовитых грибов."
      ],
      "metadata": {
        "id": "SKvI1_FBNnrd"
      }
    }
  ]
}